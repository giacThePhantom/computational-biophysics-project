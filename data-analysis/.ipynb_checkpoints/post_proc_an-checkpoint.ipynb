{
 "cells": [
  {
   "cell_type": "code",
   "execution_count": 1,
   "id": "3e1ca02a",
   "metadata": {},
   "outputs": [],
   "source": [
    "# Loading necessary modules. Always do so at the beginning.\n",
    "import numpy as np\n",
    "import matplotlib.pyplot as plt\n",
    "from pathlib import Path\n",
    "from MDAnalysis.analysis import diffusionmap\n",
    "from os import fspath\n",
    "from MDAnalysis.analysis.rms import RMSF, RMSD\n",
    "%matplotlib inline\n",
    "import seaborn as sns\n",
    "import math\n",
    "import MDAnalysis as mda\n",
    "%matplotlib inline"
   ]
  },
  {
   "cell_type": "code",
   "execution_count": 2,
   "id": "f656a059",
   "metadata": {},
   "outputs": [],
   "source": [
    "from MDAnalysis.analysis.rms import rmsd"
   ]
  },
  {
   "cell_type": "code",
   "execution_count": 6,
   "id": "86ef127a",
   "metadata": {},
   "outputs": [],
   "source": [
    "path = Path('/home/giacomo/universita/biophys/project/data/post_processing_output')\n",
    "gro = path / 'md.gro'\n",
    "traj = path / 'md_noPBC.xtc'"
   ]
  },
  {
   "cell_type": "code",
   "execution_count": 7,
   "id": "98f4ff0d",
   "metadata": {},
   "outputs": [],
   "source": [
    "u = mda.Universe(str(gro), str(traj))"
   ]
  },
  {
   "cell_type": "code",
   "execution_count": 8,
   "id": "8fe8ce3a",
   "metadata": {},
   "outputs": [],
   "source": [
    "ref = mda.Universe(str(gro))"
   ]
  },
  {
   "cell_type": "code",
   "execution_count": null,
   "id": "84ec6258",
   "metadata": {},
   "outputs": [],
   "source": [
    "matrix = diffusionmap.DistanceMatrix(u, select='name CA').run()"
   ]
  },
  {
   "cell_type": "raw",
   "id": "315a47df",
   "metadata": {},
   "source": []
  },
  {
   "cell_type": "code",
   "execution_count": null,
   "id": "8465b563",
   "metadata": {},
   "outputs": [],
   "source": [
    "matrix.dist_matrix.shape"
   ]
  },
  {
   "cell_type": "code",
   "execution_count": null,
   "id": "b2289387",
   "metadata": {},
   "outputs": [],
   "source": [
    "plt.imshow(matrix.dist_matrix, cmap='viridis')\n",
    "plt.xlabel('*50 ps')\n",
    "plt.ylabel('*50 ps')\n",
    "plt.colorbar(label='RMSD')"
   ]
  },
  {
   "cell_type": "code",
   "execution_count": null,
   "id": "4379964b",
   "metadata": {},
   "outputs": [],
   "source": [
    "from MDAnalysis.analysis import align"
   ]
  },
  {
   "cell_type": "code",
   "execution_count": null,
   "id": "00ccfbd3",
   "metadata": {},
   "outputs": [],
   "source": [
    "align.AlignTraj(u, ref, select='protein and name CA')"
   ]
  },
  {
   "cell_type": "code",
   "execution_count": null,
   "id": "863de105",
   "metadata": {},
   "outputs": [],
   "source": [
    "ca_atoms = u.select_atoms(\"protein and name CA\") # this is the AtomGroup\n",
    "myRMSF = RMSF(ca_atoms).run()"
   ]
  },
  {
   "cell_type": "code",
   "execution_count": null,
   "id": "22050f59",
   "metadata": {},
   "outputs": [],
   "source": [
    "plt.plot(myRMSF.rmsf)\n",
    "plt.xlabel('Residue index')\n",
    "plt.ylabel('RMSF')\n",
    "plt.title('RMSF')"
   ]
  },
  {
   "cell_type": "code",
   "execution_count": null,
   "id": "b4b0510d",
   "metadata": {},
   "outputs": [],
   "source": []
  },
  {
   "cell_type": "markdown",
   "id": "aced7534",
   "metadata": {},
   "source": []
  },
  {
   "cell_type": "code",
   "execution_count": null,
   "id": "90d4b1ba",
   "metadata": {
    "scrolled": true
   },
   "outputs": [],
   "source": [
    "#for ts in u.trajectory[:]:\n",
    "#    print(u.select_atoms('name CA').positions - ref.select_atoms('name CA').positions)"
   ]
  },
  {
   "cell_type": "code",
   "execution_count": null,
   "id": "6eda4f64",
   "metadata": {},
   "outputs": [],
   "source": [
    "#rmsd_arr = [rmsd(u.select_atoms('backbone').positions, ref.select_atoms('backbone').positions, center=True, superposition=True) for ts in u.trajectory[:]]"
   ]
  },
  {
   "cell_type": "code",
   "execution_count": null,
   "id": "05414b51",
   "metadata": {
    "scrolled": true
   },
   "outputs": [],
   "source": []
  },
  {
   "cell_type": "code",
   "execution_count": null,
   "id": "8bde4f1b",
   "metadata": {},
   "outputs": [],
   "source": []
  },
  {
   "cell_type": "code",
   "execution_count": null,
   "id": "656048ab",
   "metadata": {},
   "outputs": [],
   "source": []
  },
  {
   "cell_type": "markdown",
   "id": "ccb69559",
   "metadata": {},
   "source": []
  },
  {
   "cell_type": "code",
   "execution_count": null,
   "id": "4e18ff78",
   "metadata": {},
   "outputs": [],
   "source": []
  },
  {
   "cell_type": "code",
   "execution_count": null,
   "id": "7c3e5c3a",
   "metadata": {},
   "outputs": [],
   "source": []
  },
  {
   "cell_type": "code",
   "execution_count": null,
   "id": "837bf9c1",
   "metadata": {},
   "outputs": [],
   "source": []
  },
  {
   "cell_type": "code",
   "execution_count": null,
   "id": "49b87b42",
   "metadata": {},
   "outputs": [],
   "source": []
  },
  {
   "cell_type": "code",
   "execution_count": null,
   "id": "4531a4bf",
   "metadata": {},
   "outputs": [],
   "source": []
  },
  {
   "cell_type": "code",
   "execution_count": null,
   "id": "814a89c9",
   "metadata": {},
   "outputs": [],
   "source": []
  },
  {
   "cell_type": "code",
   "execution_count": null,
   "id": "ec07de50",
   "metadata": {},
   "outputs": [],
   "source": []
  }
 ],
 "metadata": {
  "kernelspec": {
   "display_name": "Python 3 (ipykernel)",
   "language": "python",
   "name": "python3"
  },
  "language_info": {
   "codemirror_mode": {
    "name": "ipython",
    "version": 3
   },
   "file_extension": ".py",
   "mimetype": "text/x-python",
   "name": "python",
   "nbconvert_exporter": "python",
   "pygments_lexer": "ipython3",
   "version": "3.8.1"
  }
 },
 "nbformat": 4,
 "nbformat_minor": 5
}
